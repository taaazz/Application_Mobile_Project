{
  "nbformat": 4,
  "nbformat_minor": 0,
  "metadata": {
    "colab": {
      "provenance": [],
      "mount_file_id": "15u4eSJL7nqeYkg-go3uNj_yhi1Bxwd7n",
      "authorship_tag": "ABX9TyNfh3ls3lkMnGrA6Y/1hmYz",
      "include_colab_link": true
    },
    "kernelspec": {
      "name": "python3",
      "display_name": "Python 3"
    },
    "language_info": {
      "name": "python"
    }
  },
  "cells": [
    {
      "cell_type": "markdown",
      "metadata": {
        "id": "view-in-github",
        "colab_type": "text"
      },
      "source": [
        "<a href=\"https://colab.research.google.com/github/taaazz/Application_Mobile_Project/blob/main/Emotion_Detection_with_Deep_Learning.ipynb\" target=\"_parent\"><img src=\"https://colab.research.google.com/assets/colab-badge.svg\" alt=\"Open In Colab\"/></a>"
      ]
    },
    {
      "cell_type": "code",
      "execution_count": null,
      "metadata": {
        "id": "RdkTCkxr5TLE"
      },
      "outputs": [],
      "source": [
        "import pandas as pd\n",
        "import numpy as np\n",
        "import matplotlib.pyplot as plt\n",
        "import seaborn as sns\n",
        "from sklearn.metrics import classification_report, confusion_matrix\n",
        "from keras.preprocessing.text import Tokenizer\n",
        "from keras.optimizers import Adamax\n",
        "from keras.metrics import Precision, Recall\n",
        "from keras.layers import Dense, ReLU\n",
        "from keras.layers import Embedding, BatchNormalization, Concatenate\n",
        "from keras.layers import Conv1D, GlobalMaxPooling1D, Dropout\n",
        "from keras.models import Sequential, Model\n",
        "from sklearn.preprocessing import LabelEncoder\n",
        "from keras.preprocessing.sequence import pad_sequences\n",
        "from keras.utils import to_categorical\n"
      ]
    },
    {
      "cell_type": "code",
      "source": [
        "from google.colab import drive\n",
        "drive.mount('/content/drive')"
      ],
      "metadata": {
        "colab": {
          "base_uri": "https://localhost:8080/"
        },
        "id": "iXA2aoN875h0",
        "outputId": "5d4910f9-91cf-4614-89e3-7c6a5daf52c1"
      },
      "execution_count": null,
      "outputs": [
        {
          "output_type": "stream",
          "name": "stdout",
          "text": [
            "Drive already mounted at /content/drive; to attempt to forcibly remount, call drive.mount(\"/content/drive\", force_remount=True).\n"
          ]
        }
      ]
    },
    {
      "cell_type": "code",
      "source": [
        "df = pd.read_csv(\"/content/drive/MyDrive/dataset/Emotion_detection/train.txt\",\n",
        "                 delimiter=';', header=None, names=['sentence','label'])\n",
        "\n",
        "val_df = pd.read_csv(\"/content/drive/MyDrive/dataset/Emotion_detection/val.txt\",\n",
        "                 delimiter=';', header=None, names=['sentence','label'])\n",
        "\n",
        "ts_df = pd.read_csv(\"/content/drive/MyDrive/dataset/Emotion_detection/test.txt\",\n",
        "                 delimiter=';', header=None, names=['sentence','label'])"
      ],
      "metadata": {
        "id": "duNnuist757s"
      },
      "execution_count": null,
      "outputs": []
    },
    {
      "cell_type": "code",
      "source": [
        "df"
      ],
      "metadata": {
        "colab": {
          "base_uri": "https://localhost:8080/",
          "height": 423
        },
        "id": "hMAUtthi9TvW",
        "outputId": "3395c392-4d29-41d8-b248-d96c2cb60186"
      },
      "execution_count": null,
      "outputs": [
        {
          "output_type": "execute_result",
          "data": {
            "text/plain": [
              "                                                sentence    label\n",
              "0                                i didnt feel humiliated  sadness\n",
              "1      i can go from feeling so hopeless to so damned...  sadness\n",
              "2       im grabbing a minute to post i feel greedy wrong    anger\n",
              "3      i am ever feeling nostalgic about the fireplac...     love\n",
              "4                                   i am feeling grouchy    anger\n",
              "...                                                  ...      ...\n",
              "15995  i just had a very brief time in the beanbag an...  sadness\n",
              "15996  i am now turning and i feel pathetic that i am...  sadness\n",
              "15997                     i feel strong and good overall      joy\n",
              "15998  i feel like this was such a rude comment and i...    anger\n",
              "15999  i know a lot but i feel so stupid because i ca...  sadness\n",
              "\n",
              "[16000 rows x 2 columns]"
            ],
            "text/html": [
              "\n",
              "  <div id=\"df-781f8f7f-46a7-4e2a-a2b4-6b0fc48d285f\" class=\"colab-df-container\">\n",
              "    <div>\n",
              "<style scoped>\n",
              "    .dataframe tbody tr th:only-of-type {\n",
              "        vertical-align: middle;\n",
              "    }\n",
              "\n",
              "    .dataframe tbody tr th {\n",
              "        vertical-align: top;\n",
              "    }\n",
              "\n",
              "    .dataframe thead th {\n",
              "        text-align: right;\n",
              "    }\n",
              "</style>\n",
              "<table border=\"1\" class=\"dataframe\">\n",
              "  <thead>\n",
              "    <tr style=\"text-align: right;\">\n",
              "      <th></th>\n",
              "      <th>sentence</th>\n",
              "      <th>label</th>\n",
              "    </tr>\n",
              "  </thead>\n",
              "  <tbody>\n",
              "    <tr>\n",
              "      <th>0</th>\n",
              "      <td>i didnt feel humiliated</td>\n",
              "      <td>sadness</td>\n",
              "    </tr>\n",
              "    <tr>\n",
              "      <th>1</th>\n",
              "      <td>i can go from feeling so hopeless to so damned...</td>\n",
              "      <td>sadness</td>\n",
              "    </tr>\n",
              "    <tr>\n",
              "      <th>2</th>\n",
              "      <td>im grabbing a minute to post i feel greedy wrong</td>\n",
              "      <td>anger</td>\n",
              "    </tr>\n",
              "    <tr>\n",
              "      <th>3</th>\n",
              "      <td>i am ever feeling nostalgic about the fireplac...</td>\n",
              "      <td>love</td>\n",
              "    </tr>\n",
              "    <tr>\n",
              "      <th>4</th>\n",
              "      <td>i am feeling grouchy</td>\n",
              "      <td>anger</td>\n",
              "    </tr>\n",
              "    <tr>\n",
              "      <th>...</th>\n",
              "      <td>...</td>\n",
              "      <td>...</td>\n",
              "    </tr>\n",
              "    <tr>\n",
              "      <th>15995</th>\n",
              "      <td>i just had a very brief time in the beanbag an...</td>\n",
              "      <td>sadness</td>\n",
              "    </tr>\n",
              "    <tr>\n",
              "      <th>15996</th>\n",
              "      <td>i am now turning and i feel pathetic that i am...</td>\n",
              "      <td>sadness</td>\n",
              "    </tr>\n",
              "    <tr>\n",
              "      <th>15997</th>\n",
              "      <td>i feel strong and good overall</td>\n",
              "      <td>joy</td>\n",
              "    </tr>\n",
              "    <tr>\n",
              "      <th>15998</th>\n",
              "      <td>i feel like this was such a rude comment and i...</td>\n",
              "      <td>anger</td>\n",
              "    </tr>\n",
              "    <tr>\n",
              "      <th>15999</th>\n",
              "      <td>i know a lot but i feel so stupid because i ca...</td>\n",
              "      <td>sadness</td>\n",
              "    </tr>\n",
              "  </tbody>\n",
              "</table>\n",
              "<p>16000 rows × 2 columns</p>\n",
              "</div>\n",
              "    <div class=\"colab-df-buttons\">\n",
              "\n",
              "  <div class=\"colab-df-container\">\n",
              "    <button class=\"colab-df-convert\" onclick=\"convertToInteractive('df-781f8f7f-46a7-4e2a-a2b4-6b0fc48d285f')\"\n",
              "            title=\"Convert this dataframe to an interactive table.\"\n",
              "            style=\"display:none;\">\n",
              "\n",
              "  <svg xmlns=\"http://www.w3.org/2000/svg\" height=\"24px\" viewBox=\"0 -960 960 960\">\n",
              "    <path d=\"M120-120v-720h720v720H120Zm60-500h600v-160H180v160Zm220 220h160v-160H400v160Zm0 220h160v-160H400v160ZM180-400h160v-160H180v160Zm440 0h160v-160H620v160ZM180-180h160v-160H180v160Zm440 0h160v-160H620v160Z\"/>\n",
              "  </svg>\n",
              "    </button>\n",
              "\n",
              "  <style>\n",
              "    .colab-df-container {\n",
              "      display:flex;\n",
              "      gap: 12px;\n",
              "    }\n",
              "\n",
              "    .colab-df-convert {\n",
              "      background-color: #E8F0FE;\n",
              "      border: none;\n",
              "      border-radius: 50%;\n",
              "      cursor: pointer;\n",
              "      display: none;\n",
              "      fill: #1967D2;\n",
              "      height: 32px;\n",
              "      padding: 0 0 0 0;\n",
              "      width: 32px;\n",
              "    }\n",
              "\n",
              "    .colab-df-convert:hover {\n",
              "      background-color: #E2EBFA;\n",
              "      box-shadow: 0px 1px 2px rgba(60, 64, 67, 0.3), 0px 1px 3px 1px rgba(60, 64, 67, 0.15);\n",
              "      fill: #174EA6;\n",
              "    }\n",
              "\n",
              "    .colab-df-buttons div {\n",
              "      margin-bottom: 4px;\n",
              "    }\n",
              "\n",
              "    [theme=dark] .colab-df-convert {\n",
              "      background-color: #3B4455;\n",
              "      fill: #D2E3FC;\n",
              "    }\n",
              "\n",
              "    [theme=dark] .colab-df-convert:hover {\n",
              "      background-color: #434B5C;\n",
              "      box-shadow: 0px 1px 3px 1px rgba(0, 0, 0, 0.15);\n",
              "      filter: drop-shadow(0px 1px 2px rgba(0, 0, 0, 0.3));\n",
              "      fill: #FFFFFF;\n",
              "    }\n",
              "  </style>\n",
              "\n",
              "    <script>\n",
              "      const buttonEl =\n",
              "        document.querySelector('#df-781f8f7f-46a7-4e2a-a2b4-6b0fc48d285f button.colab-df-convert');\n",
              "      buttonEl.style.display =\n",
              "        google.colab.kernel.accessAllowed ? 'block' : 'none';\n",
              "\n",
              "      async function convertToInteractive(key) {\n",
              "        const element = document.querySelector('#df-781f8f7f-46a7-4e2a-a2b4-6b0fc48d285f');\n",
              "        const dataTable =\n",
              "          await google.colab.kernel.invokeFunction('convertToInteractive',\n",
              "                                                    [key], {});\n",
              "        if (!dataTable) return;\n",
              "\n",
              "        const docLinkHtml = 'Like what you see? Visit the ' +\n",
              "          '<a target=\"_blank\" href=https://colab.research.google.com/notebooks/data_table.ipynb>data table notebook</a>'\n",
              "          + ' to learn more about interactive tables.';\n",
              "        element.innerHTML = '';\n",
              "        dataTable['output_type'] = 'display_data';\n",
              "        await google.colab.output.renderOutput(dataTable, element);\n",
              "        const docLink = document.createElement('div');\n",
              "        docLink.innerHTML = docLinkHtml;\n",
              "        element.appendChild(docLink);\n",
              "      }\n",
              "    </script>\n",
              "  </div>\n",
              "\n",
              "\n",
              "<div id=\"df-cb8c9d88-1774-4f55-bd90-8416aa11f3da\">\n",
              "  <button class=\"colab-df-quickchart\" onclick=\"quickchart('df-cb8c9d88-1774-4f55-bd90-8416aa11f3da')\"\n",
              "            title=\"Suggest charts\"\n",
              "            style=\"display:none;\">\n",
              "\n",
              "<svg xmlns=\"http://www.w3.org/2000/svg\" height=\"24px\"viewBox=\"0 0 24 24\"\n",
              "     width=\"24px\">\n",
              "    <g>\n",
              "        <path d=\"M19 3H5c-1.1 0-2 .9-2 2v14c0 1.1.9 2 2 2h14c1.1 0 2-.9 2-2V5c0-1.1-.9-2-2-2zM9 17H7v-7h2v7zm4 0h-2V7h2v10zm4 0h-2v-4h2v4z\"/>\n",
              "    </g>\n",
              "</svg>\n",
              "  </button>\n",
              "\n",
              "<style>\n",
              "  .colab-df-quickchart {\n",
              "      --bg-color: #E8F0FE;\n",
              "      --fill-color: #1967D2;\n",
              "      --hover-bg-color: #E2EBFA;\n",
              "      --hover-fill-color: #174EA6;\n",
              "      --disabled-fill-color: #AAA;\n",
              "      --disabled-bg-color: #DDD;\n",
              "  }\n",
              "\n",
              "  [theme=dark] .colab-df-quickchart {\n",
              "      --bg-color: #3B4455;\n",
              "      --fill-color: #D2E3FC;\n",
              "      --hover-bg-color: #434B5C;\n",
              "      --hover-fill-color: #FFFFFF;\n",
              "      --disabled-bg-color: #3B4455;\n",
              "      --disabled-fill-color: #666;\n",
              "  }\n",
              "\n",
              "  .colab-df-quickchart {\n",
              "    background-color: var(--bg-color);\n",
              "    border: none;\n",
              "    border-radius: 50%;\n",
              "    cursor: pointer;\n",
              "    display: none;\n",
              "    fill: var(--fill-color);\n",
              "    height: 32px;\n",
              "    padding: 0;\n",
              "    width: 32px;\n",
              "  }\n",
              "\n",
              "  .colab-df-quickchart:hover {\n",
              "    background-color: var(--hover-bg-color);\n",
              "    box-shadow: 0 1px 2px rgba(60, 64, 67, 0.3), 0 1px 3px 1px rgba(60, 64, 67, 0.15);\n",
              "    fill: var(--button-hover-fill-color);\n",
              "  }\n",
              "\n",
              "  .colab-df-quickchart-complete:disabled,\n",
              "  .colab-df-quickchart-complete:disabled:hover {\n",
              "    background-color: var(--disabled-bg-color);\n",
              "    fill: var(--disabled-fill-color);\n",
              "    box-shadow: none;\n",
              "  }\n",
              "\n",
              "  .colab-df-spinner {\n",
              "    border: 2px solid var(--fill-color);\n",
              "    border-color: transparent;\n",
              "    border-bottom-color: var(--fill-color);\n",
              "    animation:\n",
              "      spin 1s steps(1) infinite;\n",
              "  }\n",
              "\n",
              "  @keyframes spin {\n",
              "    0% {\n",
              "      border-color: transparent;\n",
              "      border-bottom-color: var(--fill-color);\n",
              "      border-left-color: var(--fill-color);\n",
              "    }\n",
              "    20% {\n",
              "      border-color: transparent;\n",
              "      border-left-color: var(--fill-color);\n",
              "      border-top-color: var(--fill-color);\n",
              "    }\n",
              "    30% {\n",
              "      border-color: transparent;\n",
              "      border-left-color: var(--fill-color);\n",
              "      border-top-color: var(--fill-color);\n",
              "      border-right-color: var(--fill-color);\n",
              "    }\n",
              "    40% {\n",
              "      border-color: transparent;\n",
              "      border-right-color: var(--fill-color);\n",
              "      border-top-color: var(--fill-color);\n",
              "    }\n",
              "    60% {\n",
              "      border-color: transparent;\n",
              "      border-right-color: var(--fill-color);\n",
              "    }\n",
              "    80% {\n",
              "      border-color: transparent;\n",
              "      border-right-color: var(--fill-color);\n",
              "      border-bottom-color: var(--fill-color);\n",
              "    }\n",
              "    90% {\n",
              "      border-color: transparent;\n",
              "      border-bottom-color: var(--fill-color);\n",
              "    }\n",
              "  }\n",
              "</style>\n",
              "\n",
              "  <script>\n",
              "    async function quickchart(key) {\n",
              "      const quickchartButtonEl =\n",
              "        document.querySelector('#' + key + ' button');\n",
              "      quickchartButtonEl.disabled = true;  // To prevent multiple clicks.\n",
              "      quickchartButtonEl.classList.add('colab-df-spinner');\n",
              "      try {\n",
              "        const charts = await google.colab.kernel.invokeFunction(\n",
              "            'suggestCharts', [key], {});\n",
              "      } catch (error) {\n",
              "        console.error('Error during call to suggestCharts:', error);\n",
              "      }\n",
              "      quickchartButtonEl.classList.remove('colab-df-spinner');\n",
              "      quickchartButtonEl.classList.add('colab-df-quickchart-complete');\n",
              "    }\n",
              "    (() => {\n",
              "      let quickchartButtonEl =\n",
              "        document.querySelector('#df-cb8c9d88-1774-4f55-bd90-8416aa11f3da button');\n",
              "      quickchartButtonEl.style.display =\n",
              "        google.colab.kernel.accessAllowed ? 'block' : 'none';\n",
              "    })();\n",
              "  </script>\n",
              "</div>\n",
              "    </div>\n",
              "  </div>\n"
            ],
            "application/vnd.google.colaboratory.intrinsic+json": {
              "type": "dataframe",
              "variable_name": "df",
              "summary": "{\n  \"name\": \"df\",\n  \"rows\": 16000,\n  \"fields\": [\n    {\n      \"column\": \"sentence\",\n      \"properties\": {\n        \"dtype\": \"string\",\n        \"num_unique_values\": 15969,\n        \"samples\": [\n          \"i feel rather imbicilic or at least complacent\",\n          \"i was in the bathroom i had sat down to pee it was to make me feel submissive again per instructions\",\n          \"i am thrilled with the way my skin and hair feel if you are like me you are skeptical\"\n        ],\n        \"semantic_type\": \"\",\n        \"description\": \"\"\n      }\n    },\n    {\n      \"column\": \"label\",\n      \"properties\": {\n        \"dtype\": \"category\",\n        \"num_unique_values\": 6,\n        \"samples\": [\n          \"sadness\",\n          \"anger\",\n          \"joy\"\n        ],\n        \"semantic_type\": \"\",\n        \"description\": \"\"\n      }\n    }\n  ]\n}"
            }
          },
          "metadata": {},
          "execution_count": 4
        }
      ]
    },
    {
      "cell_type": "code",
      "source": [
        "df['label'].unique()"
      ],
      "metadata": {
        "colab": {
          "base_uri": "https://localhost:8080/"
        },
        "id": "KfAoa0Re9UED",
        "outputId": "8ba7f41b-18a0-48ca-da78-cc40ac17a4ef"
      },
      "execution_count": null,
      "outputs": [
        {
          "output_type": "execute_result",
          "data": {
            "text/plain": [
              "array(['sadness', 'anger', 'love', 'surprise', 'fear', 'joy'],\n",
              "      dtype=object)"
            ]
          },
          "metadata": {},
          "execution_count": 5
        }
      ]
    },
    {
      "cell_type": "code",
      "source": [
        "df.label.value_counts()"
      ],
      "metadata": {
        "colab": {
          "base_uri": "https://localhost:8080/"
        },
        "id": "317T6kPi9Xun",
        "outputId": "9e62bfbb-3459-4a11-85cf-96d9f428e3f1"
      },
      "execution_count": null,
      "outputs": [
        {
          "output_type": "execute_result",
          "data": {
            "text/plain": [
              "joy         5362\n",
              "sadness     4666\n",
              "anger       2159\n",
              "fear        1937\n",
              "love        1304\n",
              "surprise     572\n",
              "Name: label, dtype: int64"
            ]
          },
          "metadata": {},
          "execution_count": 6
        }
      ]
    },
    {
      "cell_type": "code",
      "source": [
        "df = df[~df['label'].str.contains('love')]\n",
        "df = df[~df['label'].str.contains('surprise')]"
      ],
      "metadata": {
        "id": "79v8GcB_9arj"
      },
      "execution_count": null,
      "outputs": []
    },
    {
      "cell_type": "code",
      "source": [
        "joy = df[df['label'] == 'joy'].sample(n=2200, random_state=20)\n",
        "sad = df[df['label'] == 'sadness'].sample(n=2200, random_state=20)\n",
        "fear = df[df['label'] == 'fear'].sample(n=1937, random_state=20)\n",
        "anger = df[df['label'] == 'anger'].sample(n=2159, random_state=20)\n",
        "\n",
        "df_sampled = pd.concat([joy, sad, fear, anger])\n",
        "\n",
        "df = df_sampled.sample(frac=1, random_state=20).reset_index(drop=True)"
      ],
      "metadata": {
        "id": "s9zMuD1Q_Eh1"
      },
      "execution_count": null,
      "outputs": []
    },
    {
      "cell_type": "code",
      "source": [
        "df.label.value_counts()"
      ],
      "metadata": {
        "colab": {
          "base_uri": "https://localhost:8080/"
        },
        "id": "wd6qDphm_Fp-",
        "outputId": "8e4901c2-561f-423b-9143-ec546c35085d"
      },
      "execution_count": null,
      "outputs": [
        {
          "output_type": "execute_result",
          "data": {
            "text/plain": [
              "joy        2200\n",
              "sadness    2200\n",
              "anger      2159\n",
              "fear       1937\n",
              "Name: label, dtype: int64"
            ]
          },
          "metadata": {},
          "execution_count": 9
        }
      ]
    },
    {
      "cell_type": "code",
      "source": [
        "val_df.label.value_counts()"
      ],
      "metadata": {
        "colab": {
          "base_uri": "https://localhost:8080/"
        },
        "id": "0P49zybIAVuQ",
        "outputId": "cfe62bce-5bbc-40c9-ad66-3e9705da5bbd"
      },
      "execution_count": null,
      "outputs": [
        {
          "output_type": "execute_result",
          "data": {
            "text/plain": [
              "joy         704\n",
              "sadness     550\n",
              "anger       275\n",
              "fear        212\n",
              "love        178\n",
              "surprise     81\n",
              "Name: label, dtype: int64"
            ]
          },
          "metadata": {},
          "execution_count": 10
        }
      ]
    },
    {
      "cell_type": "code",
      "source": [
        "val_df = val_df[~val_df['label'].str.contains('love')]\n",
        "val_df = val_df[~val_df['label'].str.contains('surprise')]"
      ],
      "metadata": {
        "id": "jeGu4xKYAaya"
      },
      "execution_count": null,
      "outputs": []
    },
    {
      "cell_type": "code",
      "source": [
        "joy = val_df[val_df['label'] == 'joy'].sample(n=250, random_state=20)\n",
        "sad = val_df[val_df['label'] == 'sadness'].sample(n=250, random_state=20)\n",
        "fear = val_df[val_df['label'] == 'fear'].sample(n=212, random_state=20)\n",
        "anger = val_df[val_df['label'] == 'anger'].sample(n=275, random_state=20)\n",
        "\n",
        "df_sampled = pd.concat([joy, sad, fear, anger])\n",
        "\n",
        "val_df = df_sampled.sample(frac=1, random_state=20).reset_index(drop=True)"
      ],
      "metadata": {
        "id": "Jjt3vZx_AbdW"
      },
      "execution_count": null,
      "outputs": []
    },
    {
      "cell_type": "code",
      "source": [
        "ts_df.label.value_counts()"
      ],
      "metadata": {
        "colab": {
          "base_uri": "https://localhost:8080/"
        },
        "id": "xnVHEzAR_VJh",
        "outputId": "a4f66821-e7b5-447a-c569-c8ad4fda90bd"
      },
      "execution_count": null,
      "outputs": [
        {
          "output_type": "execute_result",
          "data": {
            "text/plain": [
              "joy         695\n",
              "sadness     581\n",
              "anger       275\n",
              "fear        224\n",
              "love        159\n",
              "surprise     66\n",
              "Name: label, dtype: int64"
            ]
          },
          "metadata": {},
          "execution_count": 13
        }
      ]
    },
    {
      "cell_type": "code",
      "source": [
        "ts_df = ts_df[~ts_df['label'].str.contains('love')]\n",
        "ts_df = ts_df[~ts_df['label'].str.contains('surprise')]"
      ],
      "metadata": {
        "id": "GJbm0e9F_oyj"
      },
      "execution_count": null,
      "outputs": []
    },
    {
      "cell_type": "code",
      "source": [
        "joy = ts_df[ts_df['label'] == 'joy'].sample(n=250, random_state=20)\n",
        "sad = ts_df[ts_df['label'] == 'sadness'].sample(n=250, random_state=20)\n",
        "fear = ts_df[ts_df['label'] == 'fear'].sample(n=224, random_state=20)\n",
        "anger = ts_df[ts_df['label'] == 'anger'].sample(n=275, random_state=20)\n",
        "\n",
        "df_sampled = pd.concat([joy, sad, fear, anger])\n",
        "\n",
        "ts_df = df_sampled.sample(frac=1, random_state=20).reset_index(drop=True)"
      ],
      "metadata": {
        "id": "BbuvPcAU_qHf"
      },
      "execution_count": null,
      "outputs": []
    },
    {
      "cell_type": "markdown",
      "source": [
        "Split Data into X,Y"
      ],
      "metadata": {
        "id": "m1fUiGH6_dNO"
      }
    },
    {
      "cell_type": "code",
      "source": [
        "tr_text = df['sentence']\n",
        "tr_label = df['label']\n",
        "\n",
        "val_text = val_df['sentence']\n",
        "val_label = val_df['label']\n",
        "\n",
        "ts_text = ts_df['sentence']\n",
        "ts_label = ts_df['label']"
      ],
      "metadata": {
        "id": "DkpBSihZ_V6y"
      },
      "execution_count": null,
      "outputs": []
    },
    {
      "cell_type": "code",
      "source": [
        "encoder = LabelEncoder()\n",
        "tr_label = encoder.fit_transform(tr_label)\n",
        "val_label = encoder.transform(val_label)\n",
        "ts_label = encoder.transform(ts_label)"
      ],
      "metadata": {
        "id": "VhqOzU8w_hYm"
      },
      "execution_count": null,
      "outputs": []
    },
    {
      "cell_type": "markdown",
      "source": [
        "Teks Pre-Processing"
      ],
      "metadata": {
        "id": "dREnOJORAkxQ"
      }
    },
    {
      "cell_type": "code",
      "source": [
        "tokenizer = Tokenizer(num_words=10000)\n",
        "tokenizer.fit_on_texts(tr_text)\n",
        "\n",
        "sequences = tokenizer.texts_to_sequences(tr_text)\n",
        "\n",
        "tr_x = pad_sequences(sequences, maxlen=50)\n",
        "tr_y = to_categorical(tr_label)\n",
        "\n",
        "sequences = tokenizer.texts_to_sequences(val_text)\n",
        "val_x = pad_sequences(sequences, maxlen=50)\n",
        "val_y = to_categorical(val_label)\n",
        "\n",
        "sequences = tokenizer.texts_to_sequences(ts_text)\n",
        "ts_x = pad_sequences(sequences, maxlen=50)\n",
        "ts_y = to_categorical(ts_label)"
      ],
      "metadata": {
        "id": "HyebH7DEAm_W"
      },
      "execution_count": null,
      "outputs": []
    },
    {
      "cell_type": "markdown",
      "source": [
        "building Deep Learning Model"
      ],
      "metadata": {
        "id": "rxQQT4GwAq_L"
      }
    },
    {
      "cell_type": "code",
      "source": [
        "max_words = 10000\n",
        "max_len = 50\n",
        "embedding_dim = 32"
      ],
      "metadata": {
        "id": "zGWPHkNWAt2P"
      },
      "execution_count": null,
      "outputs": []
    },
    {
      "cell_type": "code",
      "source": [
        "# Branch 1\n",
        "branch1 = Sequential()\n",
        "branch1.add(Embedding(max_words, embedding_dim, input_length=max_len))\n",
        "branch1.add(Conv1D(64, 3, padding='same', activation='relu'))\n",
        "branch1.add(BatchNormalization())\n",
        "branch1.add(ReLU())\n",
        "branch1.add(Dropout(0.5))\n",
        "branch1.add(GlobalMaxPooling1D())\n",
        "\n",
        "# Branch 2\n",
        "branch2 = Sequential()\n",
        "branch2.add(Embedding(max_words, embedding_dim, input_length=max_len))\n",
        "branch2.add(Conv1D(64, 3, padding='same', activation='relu'))\n",
        "branch2.add(BatchNormalization())\n",
        "branch2.add(ReLU())\n",
        "branch2.add(Dropout(0.5))\n",
        "branch2.add(GlobalMaxPooling1D())\n",
        "\n",
        "concatenated = Concatenate()([branch1.output, branch2.output])\n",
        "\n",
        "hid_layer = Dense(128, activation='relu')(concatenated)\n",
        "dropout = Dropout(0.3)(hid_layer)\n",
        "output_layer = Dense(4, activation='softmax')(dropout)\n",
        "\n",
        "model = Model(inputs=[branch1.input, branch2.input], outputs=output_layer)"
      ],
      "metadata": {
        "id": "NGfMJR44AyrI"
      },
      "execution_count": null,
      "outputs": []
    },
    {
      "cell_type": "code",
      "source": [
        "model.compile(optimizer='adamax',\n",
        "              loss='categorical_crossentropy',\n",
        "              metrics=['accuracy', Precision(), Recall()])\n",
        "\n",
        "model.summary()"
      ],
      "metadata": {
        "colab": {
          "base_uri": "https://localhost:8080/"
        },
        "id": "S8wxDb97A4ED",
        "outputId": "f2a7d9d8-9b44-4c96-dc6a-36f6b4aa76a5"
      },
      "execution_count": null,
      "outputs": [
        {
          "output_type": "stream",
          "name": "stdout",
          "text": [
            "Model: \"model\"\n",
            "__________________________________________________________________________________________________\n",
            " Layer (type)                Output Shape                 Param #   Connected to                  \n",
            "==================================================================================================\n",
            " embedding_input (InputLaye  [(None, 50)]                 0         []                            \n",
            " r)                                                                                               \n",
            "                                                                                                  \n",
            " embedding_1_input (InputLa  [(None, 50)]                 0         []                            \n",
            " yer)                                                                                             \n",
            "                                                                                                  \n",
            " embedding (Embedding)       (None, 50, 32)               320000    ['embedding_input[0][0]']     \n",
            "                                                                                                  \n",
            " embedding_1 (Embedding)     (None, 50, 32)               320000    ['embedding_1_input[0][0]']   \n",
            "                                                                                                  \n",
            " conv1d (Conv1D)             (None, 50, 64)               6208      ['embedding[0][0]']           \n",
            "                                                                                                  \n",
            " conv1d_1 (Conv1D)           (None, 50, 64)               6208      ['embedding_1[0][0]']         \n",
            "                                                                                                  \n",
            " batch_normalization (Batch  (None, 50, 64)               256       ['conv1d[0][0]']              \n",
            " Normalization)                                                                                   \n",
            "                                                                                                  \n",
            " batch_normalization_1 (Bat  (None, 50, 64)               256       ['conv1d_1[0][0]']            \n",
            " chNormalization)                                                                                 \n",
            "                                                                                                  \n",
            " re_lu (ReLU)                (None, 50, 64)               0         ['batch_normalization[0][0]'] \n",
            "                                                                                                  \n",
            " re_lu_1 (ReLU)              (None, 50, 64)               0         ['batch_normalization_1[0][0]'\n",
            "                                                                    ]                             \n",
            "                                                                                                  \n",
            " dropout (Dropout)           (None, 50, 64)               0         ['re_lu[0][0]']               \n",
            "                                                                                                  \n",
            " dropout_1 (Dropout)         (None, 50, 64)               0         ['re_lu_1[0][0]']             \n",
            "                                                                                                  \n",
            " global_max_pooling1d (Glob  (None, 64)                   0         ['dropout[0][0]']             \n",
            " alMaxPooling1D)                                                                                  \n",
            "                                                                                                  \n",
            " global_max_pooling1d_1 (Gl  (None, 64)                   0         ['dropout_1[0][0]']           \n",
            " obalMaxPooling1D)                                                                                \n",
            "                                                                                                  \n",
            " concatenate (Concatenate)   (None, 128)                  0         ['global_max_pooling1d[0][0]',\n",
            "                                                                     'global_max_pooling1d_1[0][0]\n",
            "                                                                    ']                            \n",
            "                                                                                                  \n",
            " dense (Dense)               (None, 128)                  16512     ['concatenate[0][0]']         \n",
            "                                                                                                  \n",
            " dropout_2 (Dropout)         (None, 128)                  0         ['dense[0][0]']               \n",
            "                                                                                                  \n",
            " dense_1 (Dense)             (None, 4)                    516       ['dropout_2[0][0]']           \n",
            "                                                                                                  \n",
            "==================================================================================================\n",
            "Total params: 669956 (2.56 MB)\n",
            "Trainable params: 669700 (2.55 MB)\n",
            "Non-trainable params: 256 (1.00 KB)\n",
            "__________________________________________________________________________________________________\n"
          ]
        }
      ]
    },
    {
      "cell_type": "markdown",
      "source": [
        "Training Model"
      ],
      "metadata": {
        "id": "MTuP_s4XA7Yo"
      }
    },
    {
      "cell_type": "code",
      "source": [
        "batch_size = 256\n",
        "epochs = 25\n",
        "history = model.fit([tr_x, tr_x], tr_y, epochs=epochs, batch_size=batch_size,\n",
        "                    validation_data=([val_x, val_x], val_y))"
      ],
      "metadata": {
        "colab": {
          "base_uri": "https://localhost:8080/"
        },
        "id": "13NugeH1A8_2",
        "outputId": "4e6e1df0-1085-47fc-d5ae-d510601cdc7a"
      },
      "execution_count": null,
      "outputs": [
        {
          "output_type": "stream",
          "name": "stdout",
          "text": [
            "Epoch 1/25\n",
            "34/34 [==============================] - 6s 107ms/step - loss: 1.7129 - accuracy: 0.2710 - precision: 0.2715 - recall: 0.1185 - val_loss: 1.3848 - val_accuracy: 0.3040 - val_precision: 0.0000e+00 - val_recall: 0.0000e+00\n",
            "Epoch 2/25\n",
            "34/34 [==============================] - 3s 84ms/step - loss: 1.3929 - accuracy: 0.3216 - precision: 0.3878 - recall: 0.0537 - val_loss: 1.3849 - val_accuracy: 0.3181 - val_precision: 0.0000e+00 - val_recall: 0.0000e+00\n",
            "Epoch 3/25\n",
            "34/34 [==============================] - 4s 130ms/step - loss: 1.3267 - accuracy: 0.3625 - precision: 0.5170 - recall: 0.0412 - val_loss: 1.3842 - val_accuracy: 0.3404 - val_precision: 0.0000e+00 - val_recall: 0.0000e+00\n",
            "Epoch 4/25\n",
            "34/34 [==============================] - 3s 86ms/step - loss: 1.2665 - accuracy: 0.4122 - precision: 0.6280 - recall: 0.0727 - val_loss: 1.3810 - val_accuracy: 0.4063 - val_precision: 0.0000e+00 - val_recall: 0.0000e+00\n",
            "Epoch 5/25\n",
            "34/34 [==============================] - 3s 81ms/step - loss: 1.1922 - accuracy: 0.4722 - precision: 0.6631 - recall: 0.1378 - val_loss: 1.3736 - val_accuracy: 0.4630 - val_precision: 0.0000e+00 - val_recall: 0.0000e+00\n",
            "Epoch 6/25\n",
            "34/34 [==============================] - 3s 86ms/step - loss: 1.0931 - accuracy: 0.5374 - precision: 0.7088 - recall: 0.2564 - val_loss: 1.3571 - val_accuracy: 0.5876 - val_precision: 0.0000e+00 - val_recall: 0.0000e+00\n",
            "Epoch 7/25\n",
            "34/34 [==============================] - 4s 126ms/step - loss: 0.9568 - accuracy: 0.6166 - precision: 0.7561 - recall: 0.3896 - val_loss: 1.3274 - val_accuracy: 0.6332 - val_precision: 0.0000e+00 - val_recall: 0.0000e+00\n",
            "Epoch 8/25\n",
            "34/34 [==============================] - 3s 94ms/step - loss: 0.7837 - accuracy: 0.6974 - precision: 0.8043 - recall: 0.5456 - val_loss: 1.2793 - val_accuracy: 0.7427 - val_precision: 0.0000e+00 - val_recall: 0.0000e+00\n",
            "Epoch 9/25\n",
            "34/34 [==============================] - 3s 83ms/step - loss: 0.6220 - accuracy: 0.7720 - precision: 0.8483 - recall: 0.6740 - val_loss: 1.2101 - val_accuracy: 0.7994 - val_precision: 0.0000e+00 - val_recall: 0.0000e+00\n",
            "Epoch 10/25\n",
            "34/34 [==============================] - 3s 88ms/step - loss: 0.4872 - accuracy: 0.8263 - precision: 0.8759 - recall: 0.7582 - val_loss: 1.1230 - val_accuracy: 0.8460 - val_precision: 0.0000e+00 - val_recall: 0.0000e+00\n",
            "Epoch 11/25\n",
            "34/34 [==============================] - 4s 112ms/step - loss: 0.3902 - accuracy: 0.8695 - precision: 0.9030 - recall: 0.8244 - val_loss: 1.0259 - val_accuracy: 0.8734 - val_precision: 1.0000 - val_recall: 0.0344\n",
            "Epoch 12/25\n",
            "34/34 [==============================] - 4s 122ms/step - loss: 0.3108 - accuracy: 0.8990 - precision: 0.9253 - recall: 0.8706 - val_loss: 0.9180 - val_accuracy: 0.8865 - val_precision: 1.0000 - val_recall: 0.1783\n",
            "Epoch 13/25\n",
            "34/34 [==============================] - 3s 82ms/step - loss: 0.2627 - accuracy: 0.9123 - precision: 0.9318 - recall: 0.8905 - val_loss: 0.8111 - val_accuracy: 0.8977 - val_precision: 0.9973 - val_recall: 0.3810\n",
            "Epoch 14/25\n",
            "34/34 [==============================] - 3s 89ms/step - loss: 0.2172 - accuracy: 0.9293 - precision: 0.9426 - recall: 0.9164 - val_loss: 0.7049 - val_accuracy: 0.9058 - val_precision: 0.9895 - val_recall: 0.5714\n",
            "Epoch 15/25\n",
            "34/34 [==============================] - 3s 100ms/step - loss: 0.1940 - accuracy: 0.9377 - precision: 0.9489 - recall: 0.9258 - val_loss: 0.5970 - val_accuracy: 0.9139 - val_precision: 0.9829 - val_recall: 0.6971\n",
            "Epoch 16/25\n",
            "34/34 [==============================] - 4s 122ms/step - loss: 0.1600 - accuracy: 0.9492 - precision: 0.9569 - recall: 0.9402 - val_loss: 0.5043 - val_accuracy: 0.9139 - val_precision: 0.9804 - val_recall: 0.7599\n",
            "Epoch 17/25\n",
            "34/34 [==============================] - 3s 90ms/step - loss: 0.1414 - accuracy: 0.9557 - precision: 0.9630 - recall: 0.9464 - val_loss: 0.4230 - val_accuracy: 0.9210 - val_precision: 0.9666 - val_recall: 0.8207\n",
            "Epoch 18/25\n",
            "34/34 [==============================] - 3s 93ms/step - loss: 0.1298 - accuracy: 0.9590 - precision: 0.9653 - recall: 0.9526 - val_loss: 0.3578 - val_accuracy: 0.9291 - val_precision: 0.9625 - val_recall: 0.8592\n",
            "Epoch 19/25\n",
            "34/34 [==============================] - 3s 87ms/step - loss: 0.1157 - accuracy: 0.9622 - precision: 0.9690 - recall: 0.9573 - val_loss: 0.3085 - val_accuracy: 0.9321 - val_precision: 0.9568 - val_recall: 0.8754\n",
            "Epoch 20/25\n",
            "34/34 [==============================] - 4s 129ms/step - loss: 0.1065 - accuracy: 0.9679 - precision: 0.9708 - recall: 0.9639 - val_loss: 0.2707 - val_accuracy: 0.9331 - val_precision: 0.9546 - val_recall: 0.8946\n",
            "Epoch 21/25\n",
            "34/34 [==============================] - 3s 87ms/step - loss: 0.0982 - accuracy: 0.9688 - precision: 0.9729 - recall: 0.9647 - val_loss: 0.2433 - val_accuracy: 0.9331 - val_precision: 0.9532 - val_recall: 0.9078\n",
            "Epoch 22/25\n",
            "34/34 [==============================] - 4s 127ms/step - loss: 0.0857 - accuracy: 0.9718 - precision: 0.9752 - recall: 0.9683 - val_loss: 0.2272 - val_accuracy: 0.9362 - val_precision: 0.9513 - val_recall: 0.9108\n",
            "Epoch 23/25\n",
            "34/34 [==============================] - 3s 81ms/step - loss: 0.0841 - accuracy: 0.9733 - precision: 0.9766 - recall: 0.9696 - val_loss: 0.2157 - val_accuracy: 0.9392 - val_precision: 0.9498 - val_recall: 0.9210\n",
            "Epoch 24/25\n",
            "34/34 [==============================] - 5s 135ms/step - loss: 0.0762 - accuracy: 0.9761 - precision: 0.9787 - recall: 0.9733 - val_loss: 0.2086 - val_accuracy: 0.9372 - val_precision: 0.9501 - val_recall: 0.9250\n",
            "Epoch 25/25\n",
            "34/34 [==============================] - 3s 82ms/step - loss: 0.0717 - accuracy: 0.9763 - precision: 0.9784 - recall: 0.9736 - val_loss: 0.2046 - val_accuracy: 0.9372 - val_precision: 0.9480 - val_recall: 0.9240\n"
          ]
        }
      ]
    },
    {
      "cell_type": "code",
      "source": [
        "(loss, accuracy, percision, recall) = model.evaluate([tr_x, tr_x], tr_y)\n",
        "print(f'Loss: {round(loss, 2)}, Accuracy: {round(accuracy, 2)}, Precision: {round(percision, 2)}, Recall: {round(recall, 2)}')"
      ],
      "metadata": {
        "colab": {
          "base_uri": "https://localhost:8080/"
        },
        "id": "r1vMAtTpBUxv",
        "outputId": "ac7efd8d-d387-4973-f42b-a49eb87d9969"
      },
      "execution_count": null,
      "outputs": [
        {
          "output_type": "stream",
          "name": "stdout",
          "text": [
            "266/266 [==============================] - 2s 8ms/step - loss: 0.0454 - accuracy: 0.9940 - precision: 0.9945 - recall: 0.9931\n",
            "Loss: 0.05, Accuracy: 0.99, Precision: 0.99, Recall: 0.99\n"
          ]
        }
      ]
    },
    {
      "cell_type": "code",
      "source": [
        "(loss, accuracy, percision, recall) = model.evaluate([ts_x, ts_x], ts_y)\n",
        "print(f'Loss: {round(loss, 2)}, Accuracy: {round(accuracy, 2)}, Precision: {round(percision, 2)}, Recall: {round(recall, 2)}')"
      ],
      "metadata": {
        "colab": {
          "base_uri": "https://localhost:8080/"
        },
        "id": "mMeEBhGYBX4N",
        "outputId": "5b1ab2fa-c342-49f5-a77d-13f036b675fb"
      },
      "execution_count": null,
      "outputs": [
        {
          "output_type": "stream",
          "name": "stdout",
          "text": [
            "32/32 [==============================] - 0s 8ms/step - loss: 0.1851 - accuracy: 0.9399 - precision: 0.9516 - recall: 0.9259\n",
            "Loss: 0.19, Accuracy: 0.94, Precision: 0.95, Recall: 0.93\n"
          ]
        }
      ]
    },
    {
      "cell_type": "code",
      "source": [
        "y_true=[]\n",
        "for i in range(len(ts_y)):\n",
        "\n",
        "    x = np.argmax(ts_y[i])\n",
        "    y_true.append(x)"
      ],
      "metadata": {
        "id": "GQ-2L7q4BZva"
      },
      "execution_count": null,
      "outputs": []
    },
    {
      "cell_type": "code",
      "source": [
        "preds = model.predict([ts_x, ts_x])\n",
        "y_pred = np.argmax(preds, axis=1)\n",
        "y_pred"
      ],
      "metadata": {
        "colab": {
          "base_uri": "https://localhost:8080/"
        },
        "id": "FCbpuW1rBfiN",
        "outputId": "6a85bf25-633e-4d31-c64f-649a917caf0a"
      },
      "execution_count": null,
      "outputs": [
        {
          "output_type": "stream",
          "name": "stdout",
          "text": [
            "32/32 [==============================] - 0s 5ms/step\n"
          ]
        },
        {
          "output_type": "execute_result",
          "data": {
            "text/plain": [
              "array([0, 1, 0, 2, 0, 3, 1, 2, 0, 3, 0, 0, 1, 1, 3, 1, 2, 2, 3, 2, 1, 0,\n",
              "       2, 0, 3, 3, 1, 3, 2, 0, 2, 3, 1, 1, 0, 0, 2, 0, 3, 1, 3, 2, 1, 0,\n",
              "       0, 2, 0, 3, 1, 3, 0, 3, 0, 2, 2, 2, 1, 1, 3, 2, 0, 1, 3, 3, 1, 2,\n",
              "       0, 3, 0, 3, 1, 0, 1, 1, 1, 3, 1, 3, 0, 2, 2, 0, 1, 3, 0, 3, 0, 0,\n",
              "       2, 2, 0, 2, 3, 1, 2, 2, 2, 3, 3, 1, 2, 2, 3, 1, 1, 2, 3, 0, 2, 1,\n",
              "       1, 2, 0, 0, 3, 1, 3, 3, 0, 2, 2, 1, 3, 0, 1, 0, 1, 0, 0, 1, 2, 1,\n",
              "       0, 1, 2, 2, 3, 3, 3, 1, 0, 3, 3, 1, 3, 0, 0, 0, 0, 2, 3, 1, 3, 3,\n",
              "       3, 2, 3, 3, 0, 3, 1, 3, 0, 2, 0, 0, 1, 1, 1, 0, 2, 3, 1, 3, 2, 3,\n",
              "       2, 2, 1, 2, 0, 0, 2, 0, 2, 0, 3, 3, 2, 2, 2, 1, 1, 3, 2, 2, 3, 1,\n",
              "       1, 0, 1, 1, 2, 0, 2, 0, 2, 2, 0, 3, 3, 1, 3, 2, 0, 1, 2, 1, 2, 3,\n",
              "       0, 2, 1, 2, 1, 0, 3, 3, 1, 3, 1, 0, 3, 1, 3, 1, 0, 0, 3, 3, 3, 2,\n",
              "       0, 3, 1, 3, 2, 0, 1, 2, 0, 0, 3, 1, 1, 2, 1, 3, 0, 3, 0, 0, 2, 2,\n",
              "       0, 0, 2, 0, 2, 1, 2, 0, 2, 2, 1, 2, 3, 2, 2, 0, 1, 3, 3, 1, 3, 0,\n",
              "       2, 1, 1, 0, 1, 1, 3, 3, 2, 1, 1, 3, 0, 2, 2, 3, 2, 2, 0, 2, 2, 3,\n",
              "       0, 3, 1, 0, 0, 1, 3, 0, 2, 1, 2, 3, 0, 2, 1, 0, 2, 3, 0, 2, 2, 3,\n",
              "       2, 0, 2, 2, 3, 0, 2, 1, 3, 1, 1, 1, 2, 0, 3, 1, 1, 3, 0, 2, 0, 0,\n",
              "       0, 1, 2, 2, 0, 3, 0, 1, 3, 2, 2, 0, 3, 1, 0, 0, 0, 1, 2, 3, 3, 3,\n",
              "       2, 0, 0, 0, 2, 3, 0, 3, 2, 0, 2, 1, 1, 0, 1, 1, 1, 2, 0, 1, 3, 3,\n",
              "       1, 3, 0, 3, 1, 1, 0, 3, 1, 3, 1, 2, 3, 0, 2, 1, 3, 3, 2, 0, 0, 3,\n",
              "       2, 0, 1, 0, 0, 1, 3, 1, 3, 3, 0, 0, 3, 3, 1, 0, 0, 2, 1, 3, 0, 1,\n",
              "       3, 1, 1, 0, 2, 2, 0, 3, 2, 3, 2, 1, 1, 1, 2, 1, 3, 0, 1, 2, 3, 2,\n",
              "       1, 2, 2, 0, 1, 0, 2, 2, 3, 0, 1, 3, 3, 3, 2, 1, 3, 0, 1, 3, 2, 0,\n",
              "       2, 3, 1, 3, 0, 1, 0, 0, 0, 2, 3, 1, 1, 1, 0, 2, 0, 3, 2, 2, 1, 2,\n",
              "       3, 2, 2, 1, 0, 0, 2, 0, 3, 0, 2, 0, 2, 0, 2, 1, 0, 0, 0, 0, 3, 3,\n",
              "       0, 3, 1, 3, 1, 2, 3, 3, 0, 1, 3, 3, 1, 1, 0, 0, 3, 3, 1, 0, 1, 3,\n",
              "       2, 0, 0, 2, 3, 3, 3, 3, 2, 0, 1, 2, 2, 2, 0, 1, 0, 1, 3, 1, 1, 0,\n",
              "       2, 2, 1, 3, 3, 0, 1, 3, 3, 0, 1, 0, 2, 3, 1, 2, 3, 2, 2, 3, 1, 0,\n",
              "       0, 0, 2, 2, 0, 0, 1, 0, 1, 0, 1, 2, 0, 3, 2, 0, 2, 2, 1, 1, 0, 3,\n",
              "       1, 0, 2, 2, 1, 0, 2, 0, 1, 0, 1, 0, 2, 3, 0, 2, 2, 3, 3, 1, 1, 1,\n",
              "       0, 0, 3, 3, 0, 0, 2, 0, 1, 1, 3, 3, 0, 0, 3, 0, 1, 0, 2, 3, 1, 3,\n",
              "       1, 0, 1, 0, 2, 0, 0, 3, 3, 2, 2, 0, 0, 2, 1, 0, 1, 1, 2, 0, 2, 0,\n",
              "       3, 0, 2, 3, 1, 2, 3, 3, 1, 2, 1, 3, 0, 1, 2, 3, 1, 3, 0, 3, 1, 1,\n",
              "       0, 2, 1, 2, 3, 3, 0, 1, 2, 0, 0, 2, 2, 3, 2, 3, 2, 2, 3, 2, 3, 2,\n",
              "       1, 2, 0, 2, 0, 0, 2, 2, 1, 3, 1, 2, 3, 3, 3, 2, 2, 0, 2, 0, 1, 2,\n",
              "       3, 0, 0, 1, 2, 3, 0, 1, 0, 3, 1, 3, 2, 3, 0, 2, 2, 0, 0, 0, 3, 0,\n",
              "       1, 2, 2, 2, 1, 0, 2, 2, 3, 2, 2, 0, 2, 0, 2, 2, 1, 0, 3, 0, 2, 2,\n",
              "       0, 3, 1, 3, 2, 0, 2, 3, 2, 1, 1, 2, 2, 2, 1, 1, 1, 2, 2, 3, 0, 3,\n",
              "       3, 1, 0, 3, 2, 1, 0, 2, 3, 3, 3, 0, 2, 2, 0, 0, 1, 2, 1, 2, 2, 3,\n",
              "       1, 2, 0, 1, 3, 2, 3, 3, 1, 2, 2, 1, 2, 2, 3, 0, 2, 0, 0, 1, 1, 3,\n",
              "       1, 0, 2, 1, 3, 1, 2, 3, 3, 0, 2, 2, 0, 0, 2, 2, 0, 0, 3, 1, 2, 1,\n",
              "       0, 3, 2, 1, 1, 2, 0, 0, 3, 0, 3, 0, 0, 0, 2, 0, 2, 0, 1, 0, 2, 1,\n",
              "       2, 0, 0, 2, 0, 3, 1, 0, 2, 2, 2, 3, 2, 0, 1, 2, 3, 0, 1, 1, 1, 1,\n",
              "       1, 0, 0, 1, 0, 2, 3, 3, 0, 0, 0, 0, 1, 1, 3, 3, 0, 1, 1, 2, 1, 0,\n",
              "       2, 0, 3, 1, 3, 3, 0, 0, 0, 3, 0, 3, 3, 0, 0, 2, 1, 0, 0, 0, 1, 3,\n",
              "       2, 3, 3, 0, 0, 1, 2, 2, 0, 0, 0, 0, 0, 0, 0, 0, 3, 1, 2, 2, 1, 0,\n",
              "       2, 3, 3, 2, 0, 2, 3, 3, 3])"
            ]
          },
          "metadata": {},
          "execution_count": 26
        }
      ]
    },
    {
      "cell_type": "code",
      "source": [
        "plt.figure(figsize=(8,6))\n",
        "emotions = {0: 'anger', 1: 'fear', 2: 'joy', 3:'sadness'}\n",
        "emotions = list(emotions.values())\n",
        "cm = confusion_matrix(y_true, y_pred)\n",
        "sns.heatmap(cm, annot=True, fmt='d', cmap='Blues', xticklabels=emotions, yticklabels=emotions)\n",
        "\n",
        "clr = classification_report(y_true, y_pred)\n",
        "print(clr)"
      ],
      "metadata": {
        "colab": {
          "base_uri": "https://localhost:8080/",
          "height": 713
        },
        "id": "8Da4M2nRBhY2",
        "outputId": "240100c1-7e8b-45bf-da0a-3661a8f21993"
      },
      "execution_count": null,
      "outputs": [
        {
          "output_type": "stream",
          "name": "stdout",
          "text": [
            "              precision    recall  f1-score   support\n",
            "\n",
            "           0       0.92      0.93      0.92       275\n",
            "           1       0.93      0.95      0.94       224\n",
            "           2       0.95      0.97      0.96       250\n",
            "           3       0.97      0.91      0.94       250\n",
            "\n",
            "    accuracy                           0.94       999\n",
            "   macro avg       0.94      0.94      0.94       999\n",
            "weighted avg       0.94      0.94      0.94       999\n",
            "\n"
          ]
        },
        {
          "output_type": "display_data",
          "data": {
            "text/plain": [
              "<Figure size 800x600 with 2 Axes>"
            ],
            "image/png": "[encoded data removed]"
          },
          "metadata": {}
        }
      ]
    },
    {
      "cell_type": "markdown",
      "source": [
        "Prediction Function"
      ],
      "metadata": {
        "id": "ri7FUUxaBrgK"
      }
    },
    {
      "cell_type": "code",
      "source": [
        "def predict(text, model_path, token_path):\n",
        "    from tensorflow.keras.preprocessing.sequence import pad_sequences\n",
        "    import matplotlib.pyplot as plt\n",
        "    import pickle\n",
        "    from tensorflow.keras.models import load_model\n",
        "\n",
        "    model = load_model(model_path)\n",
        "\n",
        "\n",
        "    with open(token_path, 'rb') as f:\n",
        "        tokenizer = pickle.load(f)\n",
        "\n",
        "    sequences = tokenizer.texts_to_sequences([text])\n",
        "    x_new = pad_sequences(sequences, maxlen=50)\n",
        "    predictions = model.predict([x_new, x_new])\n",
        "\n",
        "    emotions = {0: 'anger', 1: 'fear', 2: 'joy', 3:'sadness'}\n",
        "\n",
        "    label = list(emotions.values())\n",
        "    probs = list(predictions[0])\n",
        "    labels = label\n",
        "    plt.subplot(1, 1, 1)\n",
        "    bars = plt.barh(labels, probs)\n",
        "    plt.xlabel('Probability', fontsize=15)\n",
        "    ax = plt.gca()\n",
        "    ax.bar_label(bars, fmt = '%.2f')\n",
        "    plt.show()"
      ],
      "metadata": {
        "id": "sPGnenQIBtYH"
      },
      "execution_count": null,
      "outputs": []
    },
    {
      "cell_type": "code",
      "source": [
        "txt = 'I am very happy to finish this project'\n",
        "predict(txt, 'nlp.h5', 'tokenizer.pkl')"
      ],
      "metadata": {
        "colab": {
          "base_uri": "https://localhost:8080/",
          "height": 321
        },
        "id": "2vlwmjPEBxKy",
        "outputId": "48bdb03a-5e08-4b82-9e81-fa2aa17af08c"
      },
      "execution_count": null,
      "outputs": [
        {
          "output_type": "error",
          "ename": "OSError",
          "evalue": "No file or directory found at nlp.h5",
          "traceback": [
            "\u001b[0;31m---------------------------------------------------------------------------\u001b[0m",
            "\u001b[0;31mOSError\u001b[0m                                   Traceback (most recent call last)",
            "\u001b[0;32m<ipython-input-29-32273d0aea19>\u001b[0m in \u001b[0;36m<cell line: 2>\u001b[0;34m()\u001b[0m\n\u001b[1;32m      1\u001b[0m \u001b[0mtxt\u001b[0m \u001b[0;34m=\u001b[0m \u001b[0;34m'I am very happy to finish this project'\u001b[0m\u001b[0;34m\u001b[0m\u001b[0;34m\u001b[0m\u001b[0m\n\u001b[0;32m----> 2\u001b[0;31m \u001b[0mpredict\u001b[0m\u001b[0;34m(\u001b[0m\u001b[0mtxt\u001b[0m\u001b[0;34m,\u001b[0m \u001b[0;34m'nlp.h5'\u001b[0m\u001b[0;34m,\u001b[0m \u001b[0;34m'tokenizer.pkl'\u001b[0m\u001b[0;34m)\u001b[0m\u001b[0;34m\u001b[0m\u001b[0;34m\u001b[0m\u001b[0m\n\u001b[0m",
            "\u001b[0;32m<ipython-input-28-e4fb8de32617>\u001b[0m in \u001b[0;36mpredict\u001b[0;34m(text, model_path, token_path)\u001b[0m\n\u001b[1;32m      5\u001b[0m     \u001b[0;32mfrom\u001b[0m \u001b[0mtensorflow\u001b[0m\u001b[0;34m.\u001b[0m\u001b[0mkeras\u001b[0m\u001b[0;34m.\u001b[0m\u001b[0mmodels\u001b[0m \u001b[0;32mimport\u001b[0m \u001b[0mload_model\u001b[0m\u001b[0;34m\u001b[0m\u001b[0;34m\u001b[0m\u001b[0m\n\u001b[1;32m      6\u001b[0m \u001b[0;34m\u001b[0m\u001b[0m\n\u001b[0;32m----> 7\u001b[0;31m     \u001b[0mmodel\u001b[0m \u001b[0;34m=\u001b[0m \u001b[0mload_model\u001b[0m\u001b[0;34m(\u001b[0m\u001b[0mmodel_path\u001b[0m\u001b[0;34m)\u001b[0m\u001b[0;34m\u001b[0m\u001b[0;34m\u001b[0m\u001b[0m\n\u001b[0m\u001b[1;32m      8\u001b[0m \u001b[0;34m\u001b[0m\u001b[0m\n\u001b[1;32m      9\u001b[0m \u001b[0;34m\u001b[0m\u001b[0m\n",
            "\u001b[0;32m/usr/local/lib/python3.10/dist-packages/keras/src/saving/saving_api.py\u001b[0m in \u001b[0;36mload_model\u001b[0;34m(filepath, custom_objects, compile, safe_mode, **kwargs)\u001b[0m\n\u001b[1;32m    260\u001b[0m \u001b[0;34m\u001b[0m\u001b[0m\n\u001b[1;32m    261\u001b[0m     \u001b[0;31m# Legacy case.\u001b[0m\u001b[0;34m\u001b[0m\u001b[0;34m\u001b[0m\u001b[0m\n\u001b[0;32m--> 262\u001b[0;31m     return legacy_sm_saving_lib.load_model(\n\u001b[0m\u001b[1;32m    263\u001b[0m         \u001b[0mfilepath\u001b[0m\u001b[0;34m,\u001b[0m \u001b[0mcustom_objects\u001b[0m\u001b[0;34m=\u001b[0m\u001b[0mcustom_objects\u001b[0m\u001b[0;34m,\u001b[0m \u001b[0mcompile\u001b[0m\u001b[0;34m=\u001b[0m\u001b[0mcompile\u001b[0m\u001b[0;34m,\u001b[0m \u001b[0;34m**\u001b[0m\u001b[0mkwargs\u001b[0m\u001b[0;34m\u001b[0m\u001b[0;34m\u001b[0m\u001b[0m\n\u001b[1;32m    264\u001b[0m     )\n",
            "\u001b[0;32m/usr/local/lib/python3.10/dist-packages/keras/src/utils/traceback_utils.py\u001b[0m in \u001b[0;36merror_handler\u001b[0;34m(*args, **kwargs)\u001b[0m\n\u001b[1;32m     68\u001b[0m             \u001b[0;31m# To get the full stack trace, call:\u001b[0m\u001b[0;34m\u001b[0m\u001b[0;34m\u001b[0m\u001b[0m\n\u001b[1;32m     69\u001b[0m             \u001b[0;31m# `tf.debugging.disable_traceback_filtering()`\u001b[0m\u001b[0;34m\u001b[0m\u001b[0;34m\u001b[0m\u001b[0m\n\u001b[0;32m---> 70\u001b[0;31m             \u001b[0;32mraise\u001b[0m \u001b[0me\u001b[0m\u001b[0;34m.\u001b[0m\u001b[0mwith_traceback\u001b[0m\u001b[0;34m(\u001b[0m\u001b[0mfiltered_tb\u001b[0m\u001b[0;34m)\u001b[0m \u001b[0;32mfrom\u001b[0m \u001b[0;32mNone\u001b[0m\u001b[0;34m\u001b[0m\u001b[0;34m\u001b[0m\u001b[0m\n\u001b[0m\u001b[1;32m     71\u001b[0m         \u001b[0;32mfinally\u001b[0m\u001b[0;34m:\u001b[0m\u001b[0;34m\u001b[0m\u001b[0;34m\u001b[0m\u001b[0m\n\u001b[1;32m     72\u001b[0m             \u001b[0;32mdel\u001b[0m \u001b[0mfiltered_tb\u001b[0m\u001b[0;34m\u001b[0m\u001b[0;34m\u001b[0m\u001b[0m\n",
            "\u001b[0;32m/usr/local/lib/python3.10/dist-packages/keras/src/saving/legacy/save.py\u001b[0m in \u001b[0;36mload_model\u001b[0;34m(filepath, custom_objects, compile, options)\u001b[0m\n\u001b[1;32m    232\u001b[0m                     \u001b[0;32mif\u001b[0m \u001b[0misinstance\u001b[0m\u001b[0;34m(\u001b[0m\u001b[0mfilepath_str\u001b[0m\u001b[0;34m,\u001b[0m \u001b[0mstr\u001b[0m\u001b[0;34m)\u001b[0m\u001b[0;34m:\u001b[0m\u001b[0;34m\u001b[0m\u001b[0;34m\u001b[0m\u001b[0m\n\u001b[1;32m    233\u001b[0m                         \u001b[0;32mif\u001b[0m \u001b[0;32mnot\u001b[0m \u001b[0mtf\u001b[0m\u001b[0;34m.\u001b[0m\u001b[0mio\u001b[0m\u001b[0;34m.\u001b[0m\u001b[0mgfile\u001b[0m\u001b[0;34m.\u001b[0m\u001b[0mexists\u001b[0m\u001b[0;34m(\u001b[0m\u001b[0mfilepath_str\u001b[0m\u001b[0;34m)\u001b[0m\u001b[0;34m:\u001b[0m\u001b[0;34m\u001b[0m\u001b[0;34m\u001b[0m\u001b[0m\n\u001b[0;32m--> 234\u001b[0;31m                             raise IOError(\n\u001b[0m\u001b[1;32m    235\u001b[0m                                 \u001b[0;34mf\"No file or directory found at {filepath_str}\"\u001b[0m\u001b[0;34m\u001b[0m\u001b[0;34m\u001b[0m\u001b[0m\n\u001b[1;32m    236\u001b[0m                             )\n",
            "\u001b[0;31mOSError\u001b[0m: No file or directory found at nlp.h5"
          ]
        }
      ]
    }
  ]
}